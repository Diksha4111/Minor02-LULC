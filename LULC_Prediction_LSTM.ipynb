{
  "nbformat": 4,
  "nbformat_minor": 0,
  "metadata": {
    "colab": {
      "provenance": [],
      "authorship_tag": "ABX9TyO7FZNkmlrTMOFcHhlKiNq2",
      "include_colab_link": true
    },
    "kernelspec": {
      "name": "python3",
      "display_name": "Python 3"
    },
    "language_info": {
      "name": "python"
    }
  },
  "cells": [
    {
      "cell_type": "markdown",
      "metadata": {
        "id": "view-in-github",
        "colab_type": "text"
      },
      "source": [
        "<a href=\"https://colab.research.google.com/github/Diksha4111/Minor02-LULC/blob/main/LULC_Prediction_LSTM.ipynb\" target=\"_parent\"><img src=\"https://colab.research.google.com/assets/colab-badge.svg\" alt=\"Open In Colab\"/></a>"
      ]
    },
    {
      "cell_type": "code",
      "execution_count": 31,
      "metadata": {
        "colab": {
          "base_uri": "https://localhost:8080/"
        },
        "id": "_SjFWGZdUsJC",
        "outputId": "fd4023fc-c335-443a-c89c-bf4b7f1f4de5"
      },
      "outputs": [
        {
          "output_type": "stream",
          "name": "stdout",
          "text": [
            "1/1 [==============================] - 0s 162ms/step\n",
            "1/1 [==============================] - 0s 19ms/step\n",
            "1/1 [==============================] - 0s 20ms/step\n",
            "1/1 [==============================] - 0s 20ms/step\n",
            "1/1 [==============================] - 0s 21ms/step\n",
            "Predicted data for next year:\n",
            "Forest:  16.040625\n",
            "Greenland:  80.17965\n",
            "Build-up area:  0.37180093\n",
            "Water:  0.34606677\n",
            "Agriculture:  0.8123584\n"
          ]
        }
      ],
      "source": [
        "import numpy as np\n",
        "from keras.models import Sequential\n",
        "from keras.layers import Dense, LSTM\n",
        "\n",
        "# defining input sequences for LSTM (2014-2019 quater-wise)\n",
        "forest = np.array([16.87303753, 17.00932797, 16.96558415, 16.60966319, 16.4867941, 16.96558415, 16.4867940, 17.01985905, 17.60891429, 16.05361645, 17.03932797, 16.50814532, 17.82157621, 17.39935784, 16.80518346, 17.24650081, 17.30568941, 17.8809416, 18.26548732, 18.66235761])  \n",
        "greenland = np.array([81.30889132, 81.1918518, 81.25560908, 81.61458961, 81.73384815, 81.25560908, 81.73284815, 81.01985905, 81.52872656, 81.73389856, 81.64589856, 81.73284815, 81.0134682, 81.1458985, 81.61458961, 81.43872656, 81.3056124, 80.7932461, 80.461236484, 80.1004643])\n",
        "urban = np.array([0.177519065, 0.163445289, 0.155290493, 0.161867614, 0.169221258, 0.155290493, 0.169221257, 0.169221258, 0.20196549, 0.177568065, 0.167221347, 0.169221257, 0.115624035, 0.20196547, 0.163445289, 0.148522032, 0.155240369, 0.097226413, 0.166598133, 0.095464345])\n",
        "water = np.array([0.040384372, 0.043204518, 0.047085607, 0.042519113, 0.040346281, 0.047085607, 0.040346281, 0.040346281, 0.040892253, 0.042519823, 0.040416272, 0.040346281, 0.040185607, 0.040873441, 0.043204518, 0.042562145, 0.047326418, 0.040021761, 0.045698731, 0.030125464])\n",
        "agriculture = np.array([1.600167719, 1.592170413, 1.576430678, 1.571360471, 1.569790207, 1.576430678, 1.570790207, 1.750714600, 1.300101100, 1.989697100, 1.107135902, 1.534489904, 1.009145924, 1.211904756, 1.366376189, 1.123688498, 1.186131380, 1.188564198, 1.0600979384, 1.111588287])\n",
        "\n",
        "# creating input and output sequences for LSTM\n",
        "def create_sequences(array):\n",
        "    input_seq = array[:-1]\n",
        "    output_seq = array[1:]\n",
        "    return input_seq, output_seq\n",
        "\n",
        "# creating training data\n",
        "x_forest, y_forest = create_sequences(forest)\n",
        "x_greenland, y_greenland = create_sequences(greenland)\n",
        "x_urban, y_urban = create_sequences(urban)\n",
        "x_water, y_water = create_sequences(water)\n",
        "x_agriculture, y_agriculture = create_sequences(agriculture)\n",
        "\n",
        "# reshaping input sequences for LSTM\n",
        "x_forest = x_forest.reshape((len(x_forest), 1, 1))\n",
        "x_greenland = x_greenland.reshape((len(x_greenland), 1, 1))\n",
        "x_urban = x_urban.reshape((len(x_urban), 1, 1))\n",
        "x_water = x_water.reshape((len(x_water), 1, 1))\n",
        "x_agriculture = x_agriculture.reshape((len(x_agriculture), 1, 1))\n",
        "\n",
        "# defining LSTM model\n",
        "model = Sequential()\n",
        "model.add(LSTM(50, activation='relu', input_shape=(1, 1)))\n",
        "model.add(Dense(1))\n",
        "\n",
        "# compiling the LSTM model\n",
        "model.compile(optimizer='adam', loss='mse')\n",
        "\n",
        "# training the LSTM model\n",
        "model.fit(x_forest, y_forest, epochs=100, verbose=0)\n",
        "model.fit(x_greenland, y_greenland, epochs=100, verbose=0)\n",
        "model.fit(x_urban, y_urban, epochs=100, verbose=0)\n",
        "model.fit(x_water, y_water, epochs=100, verbose=0)\n",
        "model.fit(x_agriculture, y_agriculture, epochs=100, verbose=0)\n",
        "\n",
        "# predicting next year's data\n",
        "next_year_forest = model.predict(np.array([forest[-1]]).reshape((1, 1, 1)))\n",
        "next_year_greenland = model.predict(np.array([greenland[-1]]).reshape((1, 1, 1)))\n",
        "next_year_urban = model.predict(np.array([urban[-1]]).reshape((1, 1, 1)))\n",
        "next_year_water = model.predict(np.array([water[-1]]).reshape((1, 1, 1)))\n",
        "next_year_agriculture = model.predict(np.array([agriculture[-1]]).reshape((1, 1, 1)))\n",
        "\n",
        "# displaying the predicted output \n",
        "print(\"Predicted data for next year:\")\n",
        "print(\"Forest: \", next_year_forest[0][0])\n",
        "print(\"Greenland: \", next_year_greenland[0][0])\n",
        "print(\"Build-up area: \", next_year_urban[0][0])\n",
        "print(\"Water: \", next_year_water[0][0])\n",
        "print(\"Agriculture: \", next_year_agriculture[0][0])"
      ]
    },
    {
      "cell_type": "code",
      "source": [
        "# defining test input sequence\n",
        "test_input = np.array([17.108679, 81.10598, 0.2960927, 0.37934628, 1.109902])\n",
        "\n",
        "# defining predicted values\n",
        "test_actual = np.array([16.040625, 80.17965, 0.37180093, 0.34606677, 0.8123584])\n",
        "\n",
        "# calculating model accuracy\n",
        "test_accuracy = np.mean(np.abs(test_input - test_actual) / test_actual)\n",
        "print(\"Model accuracy:\", (1 - test_accuracy) * 100, \"%\")"
      ],
      "metadata": {
        "colab": {
          "base_uri": "https://localhost:8080/"
        },
        "id": "eRoSzXzgb9Qy",
        "outputId": "83b0203c-100c-4a24-b95c-0ce2036fa806"
      },
      "execution_count": 50,
      "outputs": [
        {
          "output_type": "stream",
          "name": "stdout",
          "text": [
            "Model accuracy: 85.11600907559678 %\n"
          ]
        }
      ]
    }
  ]
}